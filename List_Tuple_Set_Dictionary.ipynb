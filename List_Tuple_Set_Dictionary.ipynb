{
  "cells": [
    {
      "cell_type": "markdown",
      "metadata": {
        "id": "view-in-github",
        "colab_type": "text"
      },
      "source": [
        "<a href=\"https://colab.research.google.com/github/Saquib0001/MLQuest-Basic-/blob/main/List_Tuple_Set_Dictionary.ipynb\" target=\"_parent\"><img src=\"https://colab.research.google.com/assets/colab-badge.svg\" alt=\"Open In Colab\"/></a>"
      ]
    },
    {
      "cell_type": "markdown",
      "metadata": {
        "id": "-YNWJ0sAfdl3"
      },
      "source": [
        "Types of Objects in python\n",
        "1. Immutable Objects\n",
        "2. Mutable Objects\n",
        "\n",
        "Immutable Objects:\n",
        "\n",
        "1. int\n",
        "2. float\n",
        "3. string\n",
        "4. bool\n",
        "5. tuple\n",
        "\n",
        "Mutable Objects:\n",
        "\n",
        "1. List\n",
        "2. Set\n",
        "3. Dictionary"
      ]
    },
    {
      "cell_type": "markdown",
      "metadata": {
        "id": "alIByodigGYp"
      },
      "source": [
        "List"
      ]
    },
    {
      "cell_type": "code",
      "execution_count": null,
      "metadata": {
        "colab": {
          "base_uri": "https://localhost:8080/"
        },
        "id": "5N20skPagFha",
        "outputId": "b8a81c79-c6ee-4589-ac59-5d0befa0b363"
      },
      "outputs": [
        {
          "name": "stdout",
          "output_type": "stream",
          "text": [
            "[1, 2, 3, 4, 5]\n"
          ]
        },
        {
          "data": {
            "text/plain": [
              "list"
            ]
          },
          "execution_count": 3,
          "metadata": {},
          "output_type": "execute_result"
        }
      ],
      "source": [
        "# List should be included in the square brackets\n",
        "\n",
        "my_list = [1,2,3,4,5]\n",
        "print(my_list)\n",
        "type(my_list)"
      ]
    },
    {
      "cell_type": "code",
      "execution_count": null,
      "metadata": {
        "colab": {
          "base_uri": "https://localhost:8080/"
        },
        "id": "a23ul-XKghhY",
        "outputId": "87fa1384-e137-4be9-c9ec-f5b3f02606a6"
      },
      "outputs": [
        {
          "name": "stdout",
          "output_type": "stream",
          "text": [
            "[7, 5, 2.1, 'English', 'Arabic', True]\n"
          ]
        }
      ],
      "source": [
        "# Lists can have multiple data types\n",
        "my_list = [7,5,2.1,'English' , 'Arabic' , True]\n",
        "print(my_list)"
      ]
    },
    {
      "cell_type": "markdown",
      "metadata": {
        "id": "zLA4duBqhIPA"
      },
      "source": [
        "list are Mutabale"
      ]
    },
    {
      "cell_type": "code",
      "execution_count": null,
      "metadata": {
        "colab": {
          "base_uri": "https://localhost:8080/"
        },
        "id": "nvfAlflqg-UQ",
        "outputId": "ca742ebd-8149-42b9-c7d9-4697515b2bc6"
      },
      "outputs": [
        {
          "name": "stdout",
          "output_type": "stream",
          "text": [
            "[2, 3, 3.5, 'English', False, 33]\n"
          ]
        }
      ],
      "source": [
        "#add element to a list\n",
        "my_list = [2, 3 , 3.5 , 'English' , False]\n",
        "my_list.append(33)\n",
        "print(my_list)"
      ]
    },
    {
      "cell_type": "code",
      "execution_count": null,
      "metadata": {
        "colab": {
          "base_uri": "https://localhost:8080/"
        },
        "id": "1U_9STO4holQ",
        "outputId": "a6c5a0f4-261f-48cb-cf9d-0fc2b0e1ca3d"
      },
      "outputs": [
        {
          "name": "stdout",
          "output_type": "stream",
          "text": [
            "2\n",
            "3.5\n"
          ]
        }
      ],
      "source": [
        "# Print element of a List using their index\n",
        "print(my_list[0])\n",
        "print(my_list[2])"
      ]
    },
    {
      "cell_type": "code",
      "execution_count": null,
      "metadata": {
        "colab": {
          "base_uri": "https://localhost:8080/"
        },
        "id": "JFN-5hY1hys_",
        "outputId": "d35d812a-c7c0-46b3-e6ad-fe1a9469a7b7"
      },
      "outputs": [
        {
          "name": "stdout",
          "output_type": "stream",
          "text": [
            "[1, 2, 3, 4, 5, 3, 4, 10]\n"
          ]
        }
      ],
      "source": [
        "#List allow duplicate values\n",
        "list_1 = [1,2,3,4,5,3,4,10]\n",
        "print(list_1)"
      ]
    },
    {
      "cell_type": "code",
      "execution_count": null,
      "metadata": {
        "colab": {
          "base_uri": "https://localhost:8080/"
        },
        "id": "x98A1JGjiFHZ",
        "outputId": "a896abbb-502e-4fb9-de75-007bb29b81fb"
      },
      "outputs": [
        {
          "name": "stdout",
          "output_type": "stream",
          "text": [
            "[]\n"
          ]
        }
      ],
      "source": [
        "# Initiating an empty list\n",
        "list_2 = []\n",
        "print(list_2)"
      ]
    },
    {
      "cell_type": "code",
      "execution_count": null,
      "metadata": {
        "colab": {
          "base_uri": "https://localhost:8080/"
        },
        "id": "x0jMav4Cj5yn",
        "outputId": "19cf2731-cf33-4f54-faf0-2808bfe3a003"
      },
      "outputs": [
        {
          "name": "stdout",
          "output_type": "stream",
          "text": [
            "[5]\n"
          ]
        }
      ],
      "source": [
        "list_2.append(5)\n",
        "print(list_2)"
      ]
    },
    {
      "cell_type": "code",
      "execution_count": null,
      "metadata": {
        "colab": {
          "base_uri": "https://localhost:8080/"
        },
        "id": "4kdQkjmykCT2",
        "outputId": "38a3595b-692c-4abc-e7ff-36a6851d884a"
      },
      "outputs": [
        {
          "name": "stdout",
          "output_type": "stream",
          "text": [
            "[2, 5, 78, 'Eng', True]\n",
            "[2, 5, 'Eng', True]\n"
          ]
        }
      ],
      "source": [
        "# delete anitem in a list\n",
        "list_2 = [2, 5 , 78 , 'Eng' , True]\n",
        "print(list_2)\n",
        "\n",
        "del list_2[2]\n",
        "print(list_2)"
      ]
    },
    {
      "cell_type": "code",
      "execution_count": null,
      "metadata": {
        "colab": {
          "base_uri": "https://localhost:8080/"
        },
        "id": "ddmRATwlkYc-",
        "outputId": "b17675f3-9019-4374-85b5-627a869a9354"
      },
      "outputs": [
        {
          "name": "stdout",
          "output_type": "stream",
          "text": [
            "[1, 2, 3, 4, 5, 6, 7, 8, 9, 10]\n"
          ]
        }
      ],
      "source": [
        "# join two lists\n",
        "list_3 = [1, 2, 3, 4, 5]\n",
        "list_4 = [6, 7, 8, 9, 10]\n",
        "\n",
        "list_5 = list_3 + list_4\n",
        "print(list_5)"
      ]
    },
    {
      "cell_type": "markdown",
      "metadata": {
        "id": "uTeap0qtlDqe"
      },
      "source": [
        "Tuple"
      ]
    },
    {
      "cell_type": "code",
      "execution_count": null,
      "metadata": {
        "colab": {
          "base_uri": "https://localhost:8080/"
        },
        "id": "CTDm77rhk9iG",
        "outputId": "a13917d0-ceca-4361-f328-43cac9373c6d"
      },
      "outputs": [
        {
          "name": "stdout",
          "output_type": "stream",
          "text": [
            "(1, 2, 3.5, 'Machine Learning', False)\n"
          ]
        }
      ],
      "source": [
        "# tuple allows multiple datatypes\n",
        "tuple_1 = (1, 2 , 3.5,  'Machine Learning' , False)\n",
        "print(tuple_1)"
      ]
    },
    {
      "cell_type": "code",
      "execution_count": null,
      "metadata": {
        "colab": {
          "base_uri": "https://localhost:8080/"
        },
        "id": "ttN4H70ylxZX",
        "outputId": "f93db113-0f9f-49b3-e36e-a7b00f3ed369"
      },
      "outputs": [
        {
          "name": "stdout",
          "output_type": "stream",
          "text": [
            "[1, 2, 3, 4]\n",
            "(1, 2, 3, 4)\n"
          ]
        }
      ],
      "source": [
        "# converting a list to a tuple\n",
        "\n",
        "my_list = [1,2,3,4]\n",
        "print(my_list)\n",
        "\n",
        "my_tuple = tuple(my_list)\n",
        "print(my_tuple)"
      ]
    },
    {
      "cell_type": "code",
      "execution_count": null,
      "metadata": {
        "colab": {
          "base_uri": "https://localhost:8080/"
        },
        "id": "sVClFVJYmfgf",
        "outputId": "56070ab8-282d-49b9-fe0c-93d77c880d65"
      },
      "outputs": [
        {
          "name": "stdout",
          "output_type": "stream",
          "text": [
            "1\n",
            "2\n"
          ]
        }
      ],
      "source": [
        "print(my_tuple[0])\n",
        "print(my_tuple[1])"
      ]
    },
    {
      "cell_type": "markdown",
      "metadata": {
        "id": "ZqnNxuIIm3aP"
      },
      "source": [
        "Tuples are Immutable -> Unchangeable"
      ]
    },
    {
      "cell_type": "code",
      "execution_count": null,
      "metadata": {
        "colab": {
          "base_uri": "https://localhost:8080/",
          "height": 141
        },
        "id": "3FZlYtVWmuCH",
        "outputId": "f5ba9f1d-a856-410f-db56-1979f5fa2e7f"
      },
      "outputs": [
        {
          "ename": "AttributeError",
          "evalue": "'tuple' object has no attribute 'append'",
          "output_type": "error",
          "traceback": [
            "\u001b[0;31m---------------------------------------------------------------------------\u001b[0m",
            "\u001b[0;31mAttributeError\u001b[0m                            Traceback (most recent call last)",
            "\u001b[0;32m<ipython-input-19-4a40ddf90b2d>\u001b[0m in \u001b[0;36m<cell line: 1>\u001b[0;34m()\u001b[0m\n\u001b[0;32m----> 1\u001b[0;31m \u001b[0mmy_tuple\u001b[0m\u001b[0;34m.\u001b[0m\u001b[0mappend\u001b[0m\u001b[0;34m(\u001b[0m\u001b[0;36m6\u001b[0m\u001b[0;34m)\u001b[0m\u001b[0;34m\u001b[0m\u001b[0;34m\u001b[0m\u001b[0m\n\u001b[0m",
            "\u001b[0;31mAttributeError\u001b[0m: 'tuple' object has no attribute 'append'"
          ]
        }
      ],
      "source": [
        "my_tuple.append(6) # This function is not work in tuple bcz it's unchangeable"
      ]
    },
    {
      "cell_type": "code",
      "execution_count": null,
      "metadata": {
        "colab": {
          "base_uri": "https://localhost:8080/"
        },
        "id": "YKdKlW1OnCKo",
        "outputId": "e8992ea9-74ca-4436-dbde-186d1de082e1"
      },
      "outputs": [
        {
          "name": "stdout",
          "output_type": "stream",
          "text": [
            "4\n"
          ]
        }
      ],
      "source": [
        "print(len(my_tuple))"
      ]
    },
    {
      "cell_type": "markdown",
      "metadata": {
        "id": "AthDK6TNnpcp"
      },
      "source": [
        "SET"
      ]
    },
    {
      "cell_type": "code",
      "execution_count": null,
      "metadata": {
        "colab": {
          "base_uri": "https://localhost:8080/"
        },
        "id": "uFSrDlFEnrEX",
        "outputId": "f1c02e72-598c-4098-8277-1934ee43f8cb"
      },
      "outputs": [
        {
          "name": "stdout",
          "output_type": "stream",
          "text": [
            "{1, 2, 3, 4, 5}\n"
          ]
        },
        {
          "data": {
            "text/plain": [
              "set"
            ]
          },
          "execution_count": 22,
          "metadata": {},
          "output_type": "execute_result"
        }
      ],
      "source": [
        "# set --> Curly brackets\n",
        "my_set = {1,2,3,4,5}\n",
        "print(my_set)\n",
        "type(my_set)\n"
      ]
    },
    {
      "cell_type": "code",
      "execution_count": null,
      "metadata": {
        "colab": {
          "base_uri": "https://localhost:8080/",
          "height": 141
        },
        "id": "-wUz1ueXn3Rf",
        "outputId": "68c03c77-b22f-49e1-ee43-ee531ccafd22"
      },
      "outputs": [
        {
          "ename": "TypeError",
          "evalue": "'set' object is not subscriptable",
          "output_type": "error",
          "traceback": [
            "\u001b[0;31m---------------------------------------------------------------------------\u001b[0m",
            "\u001b[0;31mTypeError\u001b[0m                                 Traceback (most recent call last)",
            "\u001b[0;32m<ipython-input-23-502d757570ee>\u001b[0m in \u001b[0;36m<cell line: 1>\u001b[0;34m()\u001b[0m\n\u001b[0;32m----> 1\u001b[0;31m \u001b[0mprint\u001b[0m\u001b[0;34m(\u001b[0m\u001b[0mmy_set\u001b[0m\u001b[0;34m[\u001b[0m\u001b[0;36m0\u001b[0m\u001b[0;34m]\u001b[0m\u001b[0;34m)\u001b[0m\u001b[0;34m\u001b[0m\u001b[0;34m\u001b[0m\u001b[0m\n\u001b[0m",
            "\u001b[0;31mTypeError\u001b[0m: 'set' object is not subscriptable"
          ]
        }
      ],
      "source": [
        "print(my_set[0])"
      ]
    },
    {
      "cell_type": "code",
      "execution_count": null,
      "metadata": {
        "colab": {
          "base_uri": "https://localhost:8080/"
        },
        "id": "RzdoWk6WoP8Y",
        "outputId": "06743e91-8ada-48d8-bac4-6ea805172cdb"
      },
      "outputs": [
        {
          "name": "stdout",
          "output_type": "stream",
          "text": [
            "{4, 5, 6, 7, 8}\n"
          ]
        }
      ],
      "source": [
        "# convert a list to a set\n",
        "list_5 = [4,5,6,7,8]\n",
        "\n",
        "x = set(list_5)\n",
        "print(x)"
      ]
    },
    {
      "cell_type": "code",
      "execution_count": null,
      "metadata": {
        "colab": {
          "base_uri": "https://localhost:8080/"
        },
        "id": "OcQNdoTFwD3u",
        "outputId": "0ad098f5-6e4a-425a-cb9b-4e4e5e79e7ca"
      },
      "outputs": [
        {
          "name": "stdout",
          "output_type": "stream",
          "text": [
            "{1, 2, 3, 4, 5, 6}\n"
          ]
        }
      ],
      "source": [
        "# set does not allow duplicate values\n",
        "set_3 = {1,2,3,4,5,6,1,2,3}\n",
        "print(set_3)"
      ]
    },
    {
      "cell_type": "markdown",
      "metadata": {
        "id": "wjfpsQEjwhRC"
      },
      "source": [
        "Dictonary\n",
        "\n",
        "key-Value Pair"
      ]
    },
    {
      "cell_type": "code",
      "execution_count": 13,
      "metadata": {
        "colab": {
          "base_uri": "https://localhost:8080/"
        },
        "id": "2KdhjGFewe2e",
        "outputId": "d05cd434-be04-4608-d635-a50d41b310b9"
      },
      "outputs": [
        {
          "output_type": "stream",
          "name": "stdout",
          "text": [
            "{'name': 'Saquib', 'age': 20, 'country': 'India'}\n"
          ]
        },
        {
          "output_type": "execute_result",
          "data": {
            "text/plain": [
              "dict"
            ]
          },
          "metadata": {},
          "execution_count": 13
        }
      ],
      "source": [
        "my_dictionary = {'name' : 'Saquib' , 'age' :20 , 'country' : 'India'}\n",
        "print(my_dictionary)\n",
        "type(my_dictionary)\n"
      ]
    },
    {
      "cell_type": "code",
      "execution_count": 10,
      "metadata": {
        "id": "O7Jy_V1n_o7o",
        "colab": {
          "base_uri": "https://localhost:8080/"
        },
        "outputId": "9ff62fcf-6a07-4c16-bc79-a9bdb4b002fd"
      },
      "outputs": [
        {
          "output_type": "stream",
          "name": "stdout",
          "text": [
            "{'name': 'Rahul', 'age': 30, 'country': 'India'}\n"
          ]
        }
      ],
      "source": [
        "#dictionary does not allow duplicate values\n",
        "dictionary_2 = {'name' : 'Rahul' , 'age' : 30 , 'country' : 'India' , 'name' : 'Rahul'}\n",
        "print(dictionary_2)"
      ]
    }
  ],
  "metadata": {
    "colab": {
      "provenance": [],
      "authorship_tag": "ABX9TyN4CI4AGKvbd7gn9RX6JDc1",
      "include_colab_link": true
    },
    "kernelspec": {
      "display_name": "Python 3",
      "name": "python3"
    },
    "language_info": {
      "name": "python"
    }
  },
  "nbformat": 4,
  "nbformat_minor": 0
}